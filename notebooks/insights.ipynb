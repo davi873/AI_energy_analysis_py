{
 "cells": [
  {
   "cell_type": "markdown",
   "metadata": {},
   "source": [
    "# Possíveis insights a partir dos dados de consumo explorados"
   ]
  },
  {
   "cell_type": "code",
   "execution_count": null,
   "metadata": {},
   "outputs": [],
   "source": [
    "import pandas as pd\n",
    "import matplotlib.pyplot as plt\n",
    "import seaborn as sns\n",
    "from matplotlib.ticker import ScalarFormatter\n",
    "\n",
    "pd.set_option('display.float_format', lambda x: '%0f' % x)\n",
    "sns.set_style(\"darkgrid\")\n",
    "\n",
    "\n",
    "df_energy_insights = pd.read_csv('../datasets/processed/energy_by_region.csv')\n",
    "df_energy_insights.head()"
   ]
  },
  {
   "cell_type": "code",
   "execution_count": null,
   "metadata": {},
   "outputs": [],
   "source": [
    "df_energy_insights.describe()"
   ]
  },
  {
   "cell_type": "code",
   "execution_count": null,
   "metadata": {},
   "outputs": [],
   "source": [
    "df_energy_insights.info()"
   ]
  },
  {
   "cell_type": "code",
   "execution_count": null,
   "metadata": {},
   "outputs": [],
   "source": [
    "df_energy_insights['data'] = pd.to_datetime(df_energy_insights['data'])\n",
    "df_energy_insights.head()"
   ]
  },
  {
   "cell_type": "markdown",
   "metadata": {},
   "source": [
    "1. Média de consumo elétrico para o estado de Minas Gerais para o tipo  de consumo residencial entre todos os anos: "
   ]
  },
  {
   "cell_type": "code",
   "execution_count": null,
   "metadata": {},
   "outputs": [],
   "source": [
    "mg_filter = ((df_energy_insights['sigla'] == 'MG') & (df_energy_insights['tipo_consumo'] == 'Residencial'))\n",
    "average = df_energy_insights[mg_filter]['consumo'].mean()\n",
    "print(f'A média mensal de consumo residencial em Minas Gerais entre os anos de 2004 e 2023 é de {average:.2f}')"
   ]
  },
  {
   "cell_type": "markdown",
   "metadata": {},
   "source": [
    "2. O estado que apresentou o maior consumo de energia elétrica no setor Industrial no ano de 2019: "
   ]
  },
  {
   "cell_type": "code",
   "execution_count": 83,
   "metadata": {},
   "outputs": [],
   "source": [
    "industrial_2019_filter = ((df_energy_insights['ano'] == 2019) & (df_energy_insights['tipo_consumo'] == 'Industrial'))\n",
    "industrial_2019_data = df_energy_insights[industrial_2019_filter][['sigla', 'consumo']].groupby('sigla')['consumo'].sum().sort_values()\n"
   ]
  },
  {
   "cell_type": "code",
   "execution_count": null,
   "metadata": {},
   "outputs": [],
   "source": [
    "import src.utils_graphic as util\n",
    "plt.figure(figsize=(20,6))\n",
    "plt.title('Consumo Industrial em 2019')\n",
    "plt.grid(True)\n",
    "sns.barplot(data=industrial_2019_data.to_frame(), x='sigla', y='consumo', hue='sigla')\n"
   ]
  },
  {
   "cell_type": "markdown",
   "metadata": {},
   "source": [
    "Com base na interpretação do grafico gerado é possível concluir que o estado que apresentou o maior consumo de energia elétrica no setor Industrial no ano de 2019 é São Paulo"
   ]
  },
  {
   "cell_type": "markdown",
   "metadata": {},
   "source": [
    "3. Criação de um gráfico de barras exibindo as médias de consumo residencial e destacando os cinco estados com maiores médias:"
   ]
  },
  {
   "cell_type": "code",
   "execution_count": null,
   "metadata": {},
   "outputs": [],
   "source": [
    "df_residencial = df_energy_insights[df_energy_insights['tipo_consumo'] == 'Residencial']\n",
    "mean_by_region = (df_residencial.groupby('estado')['consumo'].mean().reset_index())\n",
    "top5_region = mean_by_region.sort_values(by='consumo', ascending=False).head(5)\n",
    "\n",
    "plt.figure(figsize=(10, 6))\n",
    "plt.bar(top5_region['estado'], top5_region['consumo'], color='skyblue')\n",
    "\n",
    "plt.title('Top 5 Estados com Maiores Médias de Consumo Residencial', fontsize=16)\n",
    "plt.xlabel('Estado', fontsize=12)\n",
    "plt.ylabel('Média de Consumo', fontsize=12)\n",
    "\n",
    "for i, v in enumerate(top5_region['consumo']):\n",
    "    plt.text(i, v + 0.05, f'{v:,.0f}'.replace(',','.'), ha='center', fontsize=10)\n",
    "\n",
    "\n",
    "plt.show()"
   ]
  },
  {
   "cell_type": "markdown",
   "metadata": {},
   "source": [
    "4. Criação de um gráfico de barras exibindo a soma do consumo de energia, agrupado por tipo de consumo existente na base de dados, para o estado de São Paulo."
   ]
  },
  {
   "cell_type": "code",
   "execution_count": null,
   "metadata": {},
   "outputs": [],
   "source": [
    "df_sp = df_energy_insights[df_energy_insights['estado'] == 'Sao Paulo']\n",
    "\n",
    "sum_by_type = (df_sp.groupby('tipo_consumo')['consumo'].sum().reset_index())\n",
    "sum_by_type = sum_by_type.sort_values(by='consumo', ascending=False)\n",
    "\n",
    "plt.figure(figsize=(10, 6))\n",
    "sns.barplot(data=sum_by_type, x='tipo_consumo', y='consumo', palette='husl', hue='tipo_consumo', legend=False)\n",
    "\n",
    "plt.title('Soma do Consumo por Tipo em São Paulo', fontsize=16)\n",
    "plt.xlabel('Tipo de Consumo', fontsize=12)\n",
    "plt.ylabel('Soma do Consumo', fontsize=12)\n",
    "\n",
    "for i, v in enumerate(sum_by_type['consumo']):\n",
    "    plt.text(i, v + 0.05 * v, f'{v:,.0f}'.replace(',','.'), ha='center', fontsize=10)\n",
    "\n",
    "plt.show()"
   ]
  },
  {
   "cell_type": "markdown",
   "metadata": {},
   "source": [
    "5. Qual ano que obteve o maior consumo?"
   ]
  },
  {
   "cell_type": "code",
   "execution_count": 87,
   "metadata": {},
   "outputs": [],
   "source": [
    "energy_by_year = df_energy_insights.groupby(['ano']).agg(\n",
    "    consumo = ('consumo', 'sum')\n",
    ").reset_index()"
   ]
  },
  {
   "cell_type": "code",
   "execution_count": null,
   "metadata": {},
   "outputs": [],
   "source": [
    "plt.figure(figsize=(15,4))\n",
    "plt.title('Consumo Energia em todos os anos')\n",
    "plt.xticks(ticks=energy_by_year['ano'], rotation=45)\n",
    "\n",
    "axLine = sns.lineplot(data=energy_by_year, x='ano', y='consumo', marker='o', linestyle='--')\n",
    "util.add_mark_to_line(ax=axLine, color='#AAA')\n",
    "\n",
    "plt.tight_layout()\n",
    "plt.show()"
   ]
  },
  {
   "cell_type": "markdown",
   "metadata": {},
   "source": [
    "De acordo com grafico acima que mostra o consumo de energia ao longo dos anos, o ano com maior consumo é o ano de 2023 com 531.012.116 de consumo"
   ]
  },
  {
   "cell_type": "markdown",
   "metadata": {},
   "source": [
    "6. Qual foi o estado que obteve menor consumo no ano de 2020?"
   ]
  },
  {
   "cell_type": "code",
   "execution_count": 89,
   "metadata": {},
   "outputs": [],
   "source": [
    "energy_use_2020_filter = ((df_energy_insights['ano'] == 2020))\n",
    "energy_use_2020_data = df_energy_insights[energy_use_2020_filter][['estado', 'consumo']].groupby('estado')['consumo'].sum().sort_values()\n"
   ]
  },
  {
   "cell_type": "code",
   "execution_count": null,
   "metadata": {},
   "outputs": [],
   "source": [
    "plt.figure(figsize=(15,5))\n",
    "axBar = sns.barplot(data=energy_use_2020_data[:5].to_frame(), x='estado', y='consumo', hue='estado')\n",
    "util.add_mark_to_bar(axBar, '#AAA')\n",
    "plt.show()"
   ]
  },
  {
   "cell_type": "markdown",
   "metadata": {},
   "source": [
    "De acordo com o gráfico acima, que exibe os cinco estados com o menor consumo de energia no Brasil em 2020, o estado de Roraima apresentou o menor consumo entre todos"
   ]
  },
  {
   "cell_type": "markdown",
   "metadata": {},
   "source": []
  },
  {
   "cell_type": "markdown",
   "metadata": {},
   "source": [
    "----- MARCELO"
   ]
  },
  {
   "cell_type": "markdown",
   "metadata": {},
   "source": [
    "7. Calcule a amplitude dos dados de consumo de energia elétrica para\n",
    "o ano de 2019."
   ]
  },
  {
   "cell_type": "code",
   "execution_count": null,
   "metadata": {},
   "outputs": [],
   "source": [
    "dados_2019 = df_energy_insights[df_energy_insights['ano']== 2019]\n",
    "amplitude_consumo = dados_2019['consumo'].max() - dados_2019['consumo'].min()\n",
    "print(f\"A amplitude do consumo de energia elétrica em 2019 é :  {amplitude_consumo}\") \n"
   ]
  },
  {
   "cell_type": "markdown",
   "metadata": {},
   "source": [
    "8. Qual é a média do consumo residencial de todos os consumidores da região nordeste no ano de 2019? Realize o arredondamento sem casas decimais. Round()"
   ]
  },
  {
   "cell_type": "code",
   "execution_count": null,
   "metadata": {},
   "outputs": [],
   "source": [
    "energy_nordeste_2019_residencial = df_energy_insights[(df_energy_insights['ano'] == 2019)&\n",
    "                                                      (df_energy_insights['regiao'] == 'Nordeste')&\n",
    "                                                      (df_energy_insights['tipo_consumo'] == 'Residencial')]\n",
    "\n",
    "media_consumo_residencial_2019 = energy_nordeste_2019_residencial['consumo'].mean()\n",
    "media_consumo_residencial_2019_arrendondada = round(media_consumo_residencial_2019)\n",
    "\n",
    "print(f'A média do consumo residencial na região Nordeste em 2019 é: {media_consumo_residencial_2019_arrendondada}')"
   ]
  },
  {
   "cell_type": "markdown",
   "metadata": {},
   "source": [
    "---- Priscila"
   ]
  },
  {
   "cell_type": "markdown",
   "metadata": {},
   "source": [
    "9. Gráfico de linhas onde o eixo X representa a os anos e o eixo Y representa o consumo de energia agrupados por tipo de consumo."
   ]
  },
  {
   "cell_type": "code",
   "execution_count": null,
   "metadata": {},
   "outputs": [],
   "source": [
    "df_energy_insights['ano'] = pd.to_datetime(df_energy_insights['ano'],format= '%Y')\n",
    "plt.figure(figsize=(20,6))\n",
    "plt.title('Ano X Consumo')\n",
    "sns.lineplot(data=df_energy_insights, x='ano', y='consumo', hue='tipo_consumo')"
   ]
  },
  {
   "cell_type": "markdown",
   "metadata": {},
   "source": [
    "O gráfico acima permite a visualização da linha de tempo X consumo por categoria de cliente apontada na base de dados utilizada para este estudo. Podemos visualizar o crescimento ao longo dos anos para a categoria de consumidores classificados como 'Residencial' enquanto a categoria 'Industrial' apresenta oscilação em seu consumo na mesma janela de observação."
   ]
  },
  {
   "cell_type": "markdown",
   "metadata": {},
   "source": [
    "10. Calcule a média de consumo agrupados por ano e região e em seguida responda: Em qual ano o consumo de energia elétrica da região Nordeste foi mais alto que o Centro Oeste? Escolha uma das alternativas abaixo."
   ]
  },
  {
   "cell_type": "code",
   "execution_count": null,
   "metadata": {},
   "outputs": [],
   "source": [
    "reg_ano_cons = df_energy_insights.groupby(['regiao', 'ano'])['consumo'].mean().reset_index()\n",
    "print(reg_ano_cons)"
   ]
  },
  {
   "cell_type": "code",
   "execution_count": null,
   "metadata": {},
   "outputs": [],
   "source": [
    "filtro_Nordeste = (df_energy_insights['regiao']=='Nordeste')\n",
    "df_filtro_Nordeste = df_energy_insights[filtro_Nordeste].groupby('ano')['consumo'].sum().reset_index().sort_values(by='consumo', ascending=False).head()\n",
    "df_filtro_Nordeste.head()"
   ]
  },
  {
   "cell_type": "code",
   "execution_count": null,
   "metadata": {},
   "outputs": [],
   "source": [
    "sns.barplot(data=df_filtro_Nordeste, x='ano', y='consumo')"
   ]
  },
  {
   "cell_type": "code",
   "execution_count": null,
   "metadata": {},
   "outputs": [],
   "source": [
    "filtro_Centro_Oeste = (df_energy_insights['regiao']=='Centro-Oeste')\n",
    "df_filtro_Centro_Oeste = df_energy_insights[filtro_Centro_Oeste].groupby('ano')['consumo'].sum().reset_index().sort_values(by='consumo', ascending=False).head()\n",
    "df_filtro_Centro_Oeste.head()"
   ]
  },
  {
   "cell_type": "code",
   "execution_count": null,
   "metadata": {},
   "outputs": [],
   "source": [
    "sns.barplot(data=df_filtro_Centro_Oeste, x='ano', y='consumo')"
   ]
  },
  {
   "cell_type": "markdown",
   "metadata": {},
   "source": [
    "Conforme análise dos dados, no ano de 2023, ambas as regiões 'Nordeste' e 'Centro-Oeste' tiveram seu maior consumo de energia elétrica dentro da base de dados estudada, porém, mesmo assim, pode-se observar que o consumo da região 'Nordeste' foi maior que a 'Centro-Oeste' ."
   ]
  },
  {
   "cell_type": "markdown",
   "metadata": {},
   "source": [
    "# Novos insights"
   ]
  },
  {
   "cell_type": "code",
   "execution_count": null,
   "metadata": {},
   "outputs": [],
   "source": [
    "use_energy_sp = df_energy_insights[df_energy_insights['sigla'] == 'SP']['consumo'].sum()\n",
    "use_energy_no_sp = df_energy_insights[df_energy_insights['sigla'] != 'SP']['consumo'].sum()\n",
    "df_use_energy = [use_energy_sp, use_energy_no_sp]\n",
    "labels_comparative = ['São Paulo', 'Outros Estados']\n",
    "plt.figure(figsize=(4,4))\n",
    "plt.pie(df_use_energy, labels=labels_comparative, autopct='%1.1f%%', startangle=140, colors=['#1f77b4', '#ff7f0e'])\n",
    "plt.title('Consumo de Energia: São Paulo vs Outros Estados')\n",
    "\n",
    "plt.show()"
   ]
  },
  {
   "cell_type": "markdown",
   "metadata": {},
   "source": [
    "Este gráfico compara o consumo de energia de São Paulo com o consumo total dos demais estados, evidenciando que São Paulo sozinho é responsável por quase 30% do consumo de energia no país"
   ]
  },
  {
   "cell_type": "code",
   "execution_count": null,
   "metadata": {},
   "outputs": [],
   "source": [
    "use_energy_sp = df_energy_insights[df_energy_insights['sigla'] == 'SP'].groupby('ano')['consumo'].sum().reset_index()\n",
    "use_energy_no_sp = df_energy_insights[df_energy_insights['sigla'] != 'SP'].groupby('ano')['consumo'].sum().reset_index()\n",
    "use_energy_no_sp['grupo'] = 'Outros Estados'\n",
    "use_energy_sp['grupo'] = 'São Paulo'\n",
    "df_use_energy = pd.concat([use_energy_sp, use_energy_no_sp])\n",
    "\n",
    "plt.figure(figsize=(12, 6))\n",
    "sns.lineplot(data=df_use_energy, x='ano', y='consumo', hue='grupo', marker='o', linewidth=2.5)\n",
    "plt.xticks(ticks=energy_by_year['ano'], rotation=45)\n",
    "\n",
    "plt.title('Consumo de Energia: São Paulo vs Outros Estados ao Longo dos Anos', fontsize=16)\n",
    "plt.xlabel('Ano', fontsize=14)\n",
    "plt.ylabel('Consumo de Energia', fontsize=14)\n",
    "\n",
    "plt.tight_layout()\n",
    "plt.show()"
   ]
  },
  {
   "cell_type": "markdown",
   "metadata": {},
   "source": [
    "Neste gráfico, que mostra o consumo de energia ao longo dos anos para São Paulo e os demais estados, é possível observar que o consumo dos outros estados aumentou significativamente com o passar dos anos, enquanto o consumo de São Paulo permaneceu relativamente estável."
   ]
  },
  {
   "cell_type": "markdown",
   "metadata": {},
   "source": [
    "4.1 - Criação de um gráfico de dispersão, demostrando crescimento ou redução da soma do consumo ao longo dos anos, agrupado por região:"
   ]
  },
  {
   "cell_type": "code",
   "execution_count": null,
   "metadata": {},
   "outputs": [],
   "source": [
    "df_grouped_region = (df_energy_insights.groupby(['ano', 'regiao'])['consumo'].sum().reset_index())\n",
    "\n",
    "plt.figure(figsize=(12, 6))\n",
    "sns.lineplot(data=df_grouped_region, x='ano', y='consumo', hue='regiao', palette='husl', marker='o')\n",
    "\n",
    "plt.title('Crescimento ou Redução do Consumo ao Longo dos Anos por Região', fontsize=16)\n",
    "plt.xlabel('Ano', fontsize=12)\n",
    "plt.ylabel('Soma do Consumo', fontsize=12)\n",
    "plt.legend(title='Região')\n",
    "plt.tight_layout()\n",
    "\n",
    "plt.show()"
   ]
  }
 ],
 "metadata": {
  "kernelspec": {
   "display_name": "energy_analysis",
   "language": "python",
   "name": "energy_analysis"
  },
  "language_info": {
   "codemirror_mode": {
    "name": "ipython",
    "version": 3
   },
   "file_extension": ".py",
   "mimetype": "text/x-python",
   "name": "python",
   "nbconvert_exporter": "python",
   "pygments_lexer": "ipython3",
   "version": "3.12.6"
  }
 },
 "nbformat": 4,
 "nbformat_minor": 2
}
