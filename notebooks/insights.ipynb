{
 "cells": [
  {
   "cell_type": "markdown",
   "metadata": {},
   "source": [
    "# Possíveis insights a partir dos dados de consumo explorados"
   ]
  },
  {
   "cell_type": "code",
   "execution_count": null,
   "metadata": {},
   "outputs": [],
   "source": []
  },
  {
   "cell_type": "code",
   "execution_count": 69,
   "metadata": {},
   "outputs": [
    {
     "data": {
      "text/html": [
       "<div>\n",
       "<style scoped>\n",
       "    .dataframe tbody tr th:only-of-type {\n",
       "        vertical-align: middle;\n",
       "    }\n",
       "\n",
       "    .dataframe tbody tr th {\n",
       "        vertical-align: top;\n",
       "    }\n",
       "\n",
       "    .dataframe thead th {\n",
       "        text-align: right;\n",
       "    }\n",
       "</style>\n",
       "<table border=\"1\" class=\"dataframe\">\n",
       "  <thead>\n",
       "    <tr style=\"text-align: right;\">\n",
       "      <th></th>\n",
       "      <th>ano</th>\n",
       "      <th>mes</th>\n",
       "      <th>tipo_consumo</th>\n",
       "      <th>numero_consumidores</th>\n",
       "      <th>consumo</th>\n",
       "      <th>sigla</th>\n",
       "      <th>estado</th>\n",
       "      <th>regiao</th>\n",
       "      <th>pais</th>\n",
       "      <th>data</th>\n",
       "      <th>dataStr</th>\n",
       "    </tr>\n",
       "  </thead>\n",
       "  <tbody>\n",
       "    <tr>\n",
       "      <th>0</th>\n",
       "      <td>2004</td>\n",
       "      <td>1</td>\n",
       "      <td>Outros</td>\n",
       "      <td>40857</td>\n",
       "      <td>69617.000000</td>\n",
       "      <td>RN</td>\n",
       "      <td>Rio Grande do Norte</td>\n",
       "      <td>Nordeste</td>\n",
       "      <td>Brasil</td>\n",
       "      <td>2004-01-01</td>\n",
       "      <td>January/2004</td>\n",
       "    </tr>\n",
       "    <tr>\n",
       "      <th>1</th>\n",
       "      <td>2004</td>\n",
       "      <td>1</td>\n",
       "      <td>Outros</td>\n",
       "      <td>311650</td>\n",
       "      <td>937538.000000</td>\n",
       "      <td>SP</td>\n",
       "      <td>Sao Paulo</td>\n",
       "      <td>Sudeste</td>\n",
       "      <td>Brasil</td>\n",
       "      <td>2004-01-01</td>\n",
       "      <td>January/2004</td>\n",
       "    </tr>\n",
       "    <tr>\n",
       "      <th>2</th>\n",
       "      <td>2004</td>\n",
       "      <td>1</td>\n",
       "      <td>Outros</td>\n",
       "      <td>56881</td>\n",
       "      <td>67601.000000</td>\n",
       "      <td>MS</td>\n",
       "      <td>Mato Grosso do Sul</td>\n",
       "      <td>Centro-Oeste</td>\n",
       "      <td>Brasil</td>\n",
       "      <td>2004-01-01</td>\n",
       "      <td>January/2004</td>\n",
       "    </tr>\n",
       "    <tr>\n",
       "      <th>3</th>\n",
       "      <td>2004</td>\n",
       "      <td>1</td>\n",
       "      <td>Outros</td>\n",
       "      <td>226165</td>\n",
       "      <td>209380.000000</td>\n",
       "      <td>SC</td>\n",
       "      <td>Santa Catarina</td>\n",
       "      <td>Sul</td>\n",
       "      <td>Brasil</td>\n",
       "      <td>2004-01-01</td>\n",
       "      <td>January/2004</td>\n",
       "    </tr>\n",
       "    <tr>\n",
       "      <th>4</th>\n",
       "      <td>2004</td>\n",
       "      <td>1</td>\n",
       "      <td>Outros</td>\n",
       "      <td>70634</td>\n",
       "      <td>416128.000000</td>\n",
       "      <td>RJ</td>\n",
       "      <td>Rio de Janeiro</td>\n",
       "      <td>Sudeste</td>\n",
       "      <td>Brasil</td>\n",
       "      <td>2004-01-01</td>\n",
       "      <td>January/2004</td>\n",
       "    </tr>\n",
       "  </tbody>\n",
       "</table>\n",
       "</div>"
      ],
      "text/plain": [
       "    ano  mes tipo_consumo  numero_consumidores       consumo sigla  \\\n",
       "0  2004    1       Outros                40857  69617.000000    RN   \n",
       "1  2004    1       Outros               311650 937538.000000    SP   \n",
       "2  2004    1       Outros                56881  67601.000000    MS   \n",
       "3  2004    1       Outros               226165 209380.000000    SC   \n",
       "4  2004    1       Outros                70634 416128.000000    RJ   \n",
       "\n",
       "                estado        regiao    pais        data       dataStr  \n",
       "0  Rio Grande do Norte      Nordeste  Brasil  2004-01-01  January/2004  \n",
       "1            Sao Paulo       Sudeste  Brasil  2004-01-01  January/2004  \n",
       "2   Mato Grosso do Sul  Centro-Oeste  Brasil  2004-01-01  January/2004  \n",
       "3       Santa Catarina           Sul  Brasil  2004-01-01  January/2004  \n",
       "4       Rio de Janeiro       Sudeste  Brasil  2004-01-01  January/2004  "
      ]
     },
     "execution_count": 69,
     "metadata": {},
     "output_type": "execute_result"
    }
   ],
   "source": [
    "import pandas as pd\n",
    "import matplotlib.pyplot as plt\n",
    "import seaborn as sns\n",
    "\n",
    "pd.set_option('display.float_format', lambda x: '%0f' % x)\n",
    "\n",
    "df_energy_insights = pd.read_csv('../datasets/processed/energy_by_region.csv')\n",
    "df_energy_insights.head()"
   ]
  },
  {
   "cell_type": "code",
   "execution_count": 70,
   "metadata": {},
   "outputs": [
    {
     "data": {
      "text/html": [
       "<div>\n",
       "<style scoped>\n",
       "    .dataframe tbody tr th:only-of-type {\n",
       "        vertical-align: middle;\n",
       "    }\n",
       "\n",
       "    .dataframe tbody tr th {\n",
       "        vertical-align: top;\n",
       "    }\n",
       "\n",
       "    .dataframe thead th {\n",
       "        text-align: right;\n",
       "    }\n",
       "</style>\n",
       "<table border=\"1\" class=\"dataframe\">\n",
       "  <thead>\n",
       "    <tr style=\"text-align: right;\">\n",
       "      <th></th>\n",
       "      <th>ano</th>\n",
       "      <th>mes</th>\n",
       "      <th>numero_consumidores</th>\n",
       "      <th>consumo</th>\n",
       "    </tr>\n",
       "  </thead>\n",
       "  <tbody>\n",
       "    <tr>\n",
       "      <th>count</th>\n",
       "      <td>25920.000000</td>\n",
       "      <td>25920.000000</td>\n",
       "      <td>25920.000000</td>\n",
       "      <td>25920.000000</td>\n",
       "    </tr>\n",
       "    <tr>\n",
       "      <th>mean</th>\n",
       "      <td>2013.500000</td>\n",
       "      <td>6.500000</td>\n",
       "      <td>682303.377199</td>\n",
       "      <td>339170.896721</td>\n",
       "    </tr>\n",
       "    <tr>\n",
       "      <th>std</th>\n",
       "      <td>5.766393</td>\n",
       "      <td>3.452119</td>\n",
       "      <td>1839311.687366</td>\n",
       "      <td>603642.745612</td>\n",
       "    </tr>\n",
       "    <tr>\n",
       "      <th>min</th>\n",
       "      <td>2004.000000</td>\n",
       "      <td>1.000000</td>\n",
       "      <td>52.000000</td>\n",
       "      <td>354.000000</td>\n",
       "    </tr>\n",
       "    <tr>\n",
       "      <th>25%</th>\n",
       "      <td>2008.750000</td>\n",
       "      <td>3.750000</td>\n",
       "      <td>18956.500000</td>\n",
       "      <td>61545.500000</td>\n",
       "    </tr>\n",
       "    <tr>\n",
       "      <th>50%</th>\n",
       "      <td>2013.500000</td>\n",
       "      <td>6.500000</td>\n",
       "      <td>108174.500000</td>\n",
       "      <td>136754.500000</td>\n",
       "    </tr>\n",
       "    <tr>\n",
       "      <th>75%</th>\n",
       "      <td>2018.250000</td>\n",
       "      <td>9.250000</td>\n",
       "      <td>442412.000000</td>\n",
       "      <td>361651.750000</td>\n",
       "    </tr>\n",
       "    <tr>\n",
       "      <th>max</th>\n",
       "      <td>2023.000000</td>\n",
       "      <td>12.000000</td>\n",
       "      <td>19201264.000000</td>\n",
       "      <td>4849895.000000</td>\n",
       "    </tr>\n",
       "  </tbody>\n",
       "</table>\n",
       "</div>"
      ],
      "text/plain": [
       "               ano          mes  numero_consumidores        consumo\n",
       "count 25920.000000 25920.000000         25920.000000   25920.000000\n",
       "mean   2013.500000     6.500000        682303.377199  339170.896721\n",
       "std       5.766393     3.452119       1839311.687366  603642.745612\n",
       "min    2004.000000     1.000000            52.000000     354.000000\n",
       "25%    2008.750000     3.750000         18956.500000   61545.500000\n",
       "50%    2013.500000     6.500000        108174.500000  136754.500000\n",
       "75%    2018.250000     9.250000        442412.000000  361651.750000\n",
       "max    2023.000000    12.000000      19201264.000000 4849895.000000"
      ]
     },
     "execution_count": 70,
     "metadata": {},
     "output_type": "execute_result"
    }
   ],
   "source": [
    "df_energy_insights.describe()"
   ]
  },
  {
   "cell_type": "code",
   "execution_count": 71,
   "metadata": {},
   "outputs": [
    {
     "name": "stdout",
     "output_type": "stream",
     "text": [
      "<class 'pandas.core.frame.DataFrame'>\n",
      "RangeIndex: 25920 entries, 0 to 25919\n",
      "Data columns (total 11 columns):\n",
      " #   Column               Non-Null Count  Dtype  \n",
      "---  ------               --------------  -----  \n",
      " 0   ano                  25920 non-null  int64  \n",
      " 1   mes                  25920 non-null  int64  \n",
      " 2   tipo_consumo         25920 non-null  object \n",
      " 3   numero_consumidores  25920 non-null  int64  \n",
      " 4   consumo              25920 non-null  float64\n",
      " 5   sigla                25920 non-null  object \n",
      " 6   estado               25920 non-null  object \n",
      " 7   regiao               25920 non-null  object \n",
      " 8   pais                 25920 non-null  object \n",
      " 9   data                 25920 non-null  object \n",
      " 10  dataStr              25920 non-null  object \n",
      "dtypes: float64(1), int64(3), object(7)\n",
      "memory usage: 2.2+ MB\n"
     ]
    }
   ],
   "source": [
    "df_energy_insights.info()"
   ]
  },
  {
   "cell_type": "code",
   "execution_count": 72,
   "metadata": {},
   "outputs": [
    {
     "data": {
      "text/html": [
       "<div>\n",
       "<style scoped>\n",
       "    .dataframe tbody tr th:only-of-type {\n",
       "        vertical-align: middle;\n",
       "    }\n",
       "\n",
       "    .dataframe tbody tr th {\n",
       "        vertical-align: top;\n",
       "    }\n",
       "\n",
       "    .dataframe thead th {\n",
       "        text-align: right;\n",
       "    }\n",
       "</style>\n",
       "<table border=\"1\" class=\"dataframe\">\n",
       "  <thead>\n",
       "    <tr style=\"text-align: right;\">\n",
       "      <th></th>\n",
       "      <th>ano</th>\n",
       "      <th>mes</th>\n",
       "      <th>tipo_consumo</th>\n",
       "      <th>numero_consumidores</th>\n",
       "      <th>consumo</th>\n",
       "      <th>sigla</th>\n",
       "      <th>estado</th>\n",
       "      <th>regiao</th>\n",
       "      <th>pais</th>\n",
       "      <th>data</th>\n",
       "      <th>dataStr</th>\n",
       "    </tr>\n",
       "  </thead>\n",
       "  <tbody>\n",
       "    <tr>\n",
       "      <th>0</th>\n",
       "      <td>2004</td>\n",
       "      <td>1</td>\n",
       "      <td>Outros</td>\n",
       "      <td>40857</td>\n",
       "      <td>69617.000000</td>\n",
       "      <td>RN</td>\n",
       "      <td>Rio Grande do Norte</td>\n",
       "      <td>Nordeste</td>\n",
       "      <td>Brasil</td>\n",
       "      <td>2004-01-01</td>\n",
       "      <td>January/2004</td>\n",
       "    </tr>\n",
       "    <tr>\n",
       "      <th>1</th>\n",
       "      <td>2004</td>\n",
       "      <td>1</td>\n",
       "      <td>Outros</td>\n",
       "      <td>311650</td>\n",
       "      <td>937538.000000</td>\n",
       "      <td>SP</td>\n",
       "      <td>Sao Paulo</td>\n",
       "      <td>Sudeste</td>\n",
       "      <td>Brasil</td>\n",
       "      <td>2004-01-01</td>\n",
       "      <td>January/2004</td>\n",
       "    </tr>\n",
       "    <tr>\n",
       "      <th>2</th>\n",
       "      <td>2004</td>\n",
       "      <td>1</td>\n",
       "      <td>Outros</td>\n",
       "      <td>56881</td>\n",
       "      <td>67601.000000</td>\n",
       "      <td>MS</td>\n",
       "      <td>Mato Grosso do Sul</td>\n",
       "      <td>Centro-Oeste</td>\n",
       "      <td>Brasil</td>\n",
       "      <td>2004-01-01</td>\n",
       "      <td>January/2004</td>\n",
       "    </tr>\n",
       "    <tr>\n",
       "      <th>3</th>\n",
       "      <td>2004</td>\n",
       "      <td>1</td>\n",
       "      <td>Outros</td>\n",
       "      <td>226165</td>\n",
       "      <td>209380.000000</td>\n",
       "      <td>SC</td>\n",
       "      <td>Santa Catarina</td>\n",
       "      <td>Sul</td>\n",
       "      <td>Brasil</td>\n",
       "      <td>2004-01-01</td>\n",
       "      <td>January/2004</td>\n",
       "    </tr>\n",
       "    <tr>\n",
       "      <th>4</th>\n",
       "      <td>2004</td>\n",
       "      <td>1</td>\n",
       "      <td>Outros</td>\n",
       "      <td>70634</td>\n",
       "      <td>416128.000000</td>\n",
       "      <td>RJ</td>\n",
       "      <td>Rio de Janeiro</td>\n",
       "      <td>Sudeste</td>\n",
       "      <td>Brasil</td>\n",
       "      <td>2004-01-01</td>\n",
       "      <td>January/2004</td>\n",
       "    </tr>\n",
       "  </tbody>\n",
       "</table>\n",
       "</div>"
      ],
      "text/plain": [
       "    ano  mes tipo_consumo  numero_consumidores       consumo sigla  \\\n",
       "0  2004    1       Outros                40857  69617.000000    RN   \n",
       "1  2004    1       Outros               311650 937538.000000    SP   \n",
       "2  2004    1       Outros                56881  67601.000000    MS   \n",
       "3  2004    1       Outros               226165 209380.000000    SC   \n",
       "4  2004    1       Outros                70634 416128.000000    RJ   \n",
       "\n",
       "                estado        regiao    pais       data       dataStr  \n",
       "0  Rio Grande do Norte      Nordeste  Brasil 2004-01-01  January/2004  \n",
       "1            Sao Paulo       Sudeste  Brasil 2004-01-01  January/2004  \n",
       "2   Mato Grosso do Sul  Centro-Oeste  Brasil 2004-01-01  January/2004  \n",
       "3       Santa Catarina           Sul  Brasil 2004-01-01  January/2004  \n",
       "4       Rio de Janeiro       Sudeste  Brasil 2004-01-01  January/2004  "
      ]
     },
     "execution_count": 72,
     "metadata": {},
     "output_type": "execute_result"
    }
   ],
   "source": [
    "df_energy_insights['data'] = pd.to_datetime(df_energy_insights['data'])\n",
    "df_energy_insights.head()"
   ]
  },
  {
   "cell_type": "markdown",
   "metadata": {},
   "source": [
    "1. Média de consumo elétrico para o estado de Minas Gerais para o tipo  de consumo residencial entre todos os anos: "
   ]
  },
  {
   "cell_type": "code",
   "execution_count": 73,
   "metadata": {},
   "outputs": [
    {
     "name": "stdout",
     "output_type": "stream",
     "text": [
      "A média mensal de consumo residencial em Minas Gerais entre os anos de 2004 e 2023 é de 824152.16\n"
     ]
    }
   ],
   "source": [
    "mg_filter = ((df_energy_insights['sigla'] == 'MG') & (df_energy_insights['tipo_consumo'] == 'Residencial'))\n",
    "average = df_energy_insights[mg_filter]['consumo'].mean()\n",
    "print(f'A média mensal de consumo residencial em Minas Gerais entre os anos de 2004 e 2023 é de {average:.2f}')"
   ]
  },
  {
   "cell_type": "markdown",
   "metadata": {},
   "source": [
    "2. O estado que apresentou o maior consumo de energia elétrica no setor Industrial no ano de 2019: "
   ]
  },
  {
   "cell_type": "code",
   "execution_count": 74,
   "metadata": {},
   "outputs": [
    {
     "data": {
      "text/plain": [
       "sigla\n",
       "RR      22761.000000\n",
       "AC      37317.000000\n",
       "AP     106093.000000\n",
       "PI     207937.000000\n",
       "TO     324424.000000\n",
       "RO     455359.000000\n",
       "DF     522325.000000\n",
       "AL    1019567.000000\n",
       "SE    1083331.000000\n",
       "RN    1201375.000000\n",
       "MS    1351533.000000\n",
       "PB    1441192.000000\n",
       "MA    1548457.000000\n",
       "AM    1653878.000000\n",
       "MT    2172884.000000\n",
       "CE    2503873.000000\n",
       "PE    3718810.000000\n",
       "ES    4007124.000000\n",
       "GO    5623584.000000\n",
       "RJ    8008455.000000\n",
       "BA    9229888.000000\n",
       "RS    9766562.000000\n",
       "SC   10613883.000000\n",
       "PA   10792266.000000\n",
       "PR   12882931.000000\n",
       "MG   29769624.000000\n",
       "SP   47635621.000000\n",
       "Name: consumo, dtype: float64"
      ]
     },
     "execution_count": 74,
     "metadata": {},
     "output_type": "execute_result"
    }
   ],
   "source": [
    "industrial_2019_filter = ((df_energy_insights['ano'] == 2019) & (df_energy_insights['tipo_consumo'] == 'Industrial'))\n",
    "industrial_2019_data = df_energy_insights[industrial_2019_filter][['sigla', 'consumo']].groupby('sigla')['consumo'].sum().sort_values()\n",
    "industrial_2019_data"
   ]
  },
  {
   "cell_type": "code",
   "execution_count": 75,
   "metadata": {},
   "outputs": [
    {
     "data": {
      "text/plain": [
       "<Axes: title={'center': 'Consumo Industrial em 2019'}, xlabel='sigla', ylabel='consumo'>"
      ]
     },
     "execution_count": 75,
     "metadata": {},
     "output_type": "execute_result"
    },
    {
     "data": {
      "image/png": "[encoded data removed]",
      "text/plain": [
       "<Figure size 2000x600 with 1 Axes>"
      ]
     },
     "metadata": {},
     "output_type": "display_data"
    }
   ],
   "source": [
    "plt.figure(figsize=(20,6))\n",
    "plt.title('Consumo Industrial em 2019')\n",
    "sns.barplot(data=industrial_2019_data.to_frame(), x='sigla', y='consumo', hue='sigla')"
   ]
  },
  {
   "cell_type": "markdown",
   "metadata": {},
   "source": [
    "Com base na interpretação do grafico gerado é possível concluir que o estado que apresentou o maior consumo de energia elétrica no setor Industrial no ano de 2019 é São Paulo"
   ]
  }
 ],
 "metadata": {
  "kernelspec": {
   "display_name": "energy_analysis",
   "language": "python",
   "name": "energy_analysis"
  },
  "language_info": {
   "codemirror_mode": {
    "name": "ipython",
    "version": 3
   },
   "file_extension": ".py",
   "mimetype": "text/x-python",
   "name": "python",
   "nbconvert_exporter": "python",
   "pygments_lexer": "ipython3",
   "version": "3.12.6"
  }
 },
 "nbformat": 4,
 "nbformat_minor": 2
}
