{
 "cells": [
  {
   "cell_type": "markdown",
   "metadata": {},
   "source": [
    "# Possíveis insights a partir dos dados de consumo explorados"
   ]
  },
  {
   "cell_type": "code",
   "execution_count": null,
   "metadata": {},
   "outputs": [],
   "source": []
  },
  {
   "cell_type": "code",
   "execution_count": null,
   "metadata": {},
   "outputs": [],
   "source": [
    "import pandas as pd\n",
    "import matplotlib.pyplot as plt\n",
    "import seaborn as sns\n",
    "from matplotlib.ticker import ScalarFormatter\n",
    "\n",
    "pd.set_option('display.float_format', lambda x: '%0f' % x)\n",
    "sns.set_style(\"darkgrid\")\n",
    "\n",
    "\n",
    "df_energy_insights = pd.read_csv('../datasets/processed/energy_by_region.csv')\n",
    "df_energy_insights.head()"
   ]
  },
  {
   "cell_type": "code",
   "execution_count": null,
   "metadata": {},
   "outputs": [],
   "source": [
    "df_energy_insights.describe()"
   ]
  },
  {
   "cell_type": "code",
   "execution_count": null,
   "metadata": {},
   "outputs": [],
   "source": [
    "df_energy_insights.info()"
   ]
  },
  {
   "cell_type": "code",
   "execution_count": null,
   "metadata": {},
   "outputs": [],
   "source": [
    "df_energy_insights['data'] = pd.to_datetime(df_energy_insights['data'])\n",
    "df_energy_insights.head()"
   ]
  },
  {
   "cell_type": "markdown",
   "metadata": {},
   "source": [
    "1. Média de consumo elétrico para o estado de Minas Gerais para o tipo  de consumo residencial entre todos os anos: "
   ]
  },
  {
   "cell_type": "code",
   "execution_count": null,
   "metadata": {},
   "outputs": [],
   "source": [
    "mg_filter = ((df_energy_insights['sigla'] == 'MG') & (df_energy_insights['tipo_consumo'] == 'Residencial'))\n",
    "average = df_energy_insights[mg_filter]['consumo'].mean()\n",
    "print(f'A média mensal de consumo residencial em Minas Gerais entre os anos de 2004 e 2023 é de {average:.2f}')"
   ]
  },
  {
   "cell_type": "markdown",
   "metadata": {},
   "source": [
    "2. O estado que apresentou o maior consumo de energia elétrica no setor Industrial no ano de 2019: "
   ]
  },
  {
   "cell_type": "code",
   "execution_count": null,
   "metadata": {},
   "outputs": [],
   "source": [
    "industrial_2019_filter = ((df_energy_insights['ano'] == 2019) & (df_energy_insights['tipo_consumo'] == 'Industrial'))\n",
    "industrial_2019_data = df_energy_insights[industrial_2019_filter][['sigla', 'consumo']].groupby('sigla')['consumo'].sum().sort_values()\n",
    "industrial_2019_data"
   ]
  },
  {
   "cell_type": "code",
   "execution_count": null,
   "metadata": {},
   "outputs": [],
   "source": [
    "import src.utils_graphic as util\n",
    "plt.figure(figsize=(20,6))\n",
    "plt.title('Consumo Industrial em 2019')\n",
    "plt.grid(True)\n",
    "sns.barplot(data=industrial_2019_data.to_frame(), x='sigla', y='consumo', hue='sigla')\n"
   ]
  },
  {
   "cell_type": "markdown",
   "metadata": {},
   "source": [
    "Com base na interpretação do grafico gerado é possível concluir que o estado que apresentou o maior consumo de energia elétrica no setor Industrial no ano de 2019 é São Paulo"
   ]
  },
  {
   "cell_type": "code",
   "execution_count": 67,
   "metadata": {},
   "outputs": [],
   "source": [
    "energy_by_year = df_energy_insights.groupby(['ano']).agg(\n",
    "    consumo = ('consumo', 'sum')\n",
    ").reset_index()"
   ]
  },
  {
   "cell_type": "code",
   "execution_count": null,
   "metadata": {},
   "outputs": [],
   "source": [
    "plt.figure(figsize=(15,4))\n",
    "plt.title('Consumo Energia em todos os anos')\n",
    "plt.xticks(ticks=energy_by_year['ano'], rotation=45)\n",
    "\n",
    "axLine = sns.lineplot(data=energy_by_year, x='ano', y='consumo', marker='o', linestyle='--')\n",
    "util.add_mark_to_line(ax=axLine, color='#AAA')\n",
    "\n",
    "plt.tight_layout()\n",
    "plt.show()"
   ]
  },
  {
   "cell_type": "markdown",
   "metadata": {},
   "source": [
    "De acordo com grafico acima que mostra o consumo de energia ao longo dos anos, o ano com maior consumo é o ano de 2023 com 531.012.116 de consumo"
   ]
  },
  {
   "cell_type": "code",
   "execution_count": 69,
   "metadata": {},
   "outputs": [],
   "source": [
    "energy_use_2020_filter = ((df_energy_insights['ano'] == 2020))\n",
    "energy_use_2020_data = df_energy_insights[energy_use_2020_filter][['estado', 'consumo']].groupby('estado')['consumo'].sum().sort_values()\n"
   ]
  },
  {
   "cell_type": "code",
   "execution_count": null,
   "metadata": {},
   "outputs": [],
   "source": [
    "plt.figure(figsize=(15,5))\n",
    "axBar = sns.barplot(data=energy_use_2020_data[:5].to_frame(), x='estado', y='consumo', hue='estado')\n",
    "util.add_mark_to_bar(axBar, '#AAA')\n",
    "plt.show()"
   ]
  },
  {
   "cell_type": "markdown",
   "metadata": {},
   "source": [
    "De acordo com o gráfico acima, que exibe os cinco estados com o menor consumo de energia no Brasil em 2020, o estado de Roraima apresentou o menor consumo entre todos"
   ]
  },
  {
   "cell_type": "code",
   "execution_count": 71,
   "metadata": {},
   "outputs": [],
   "source": [
    "use_energy_sp = df_energy_insights[df_energy_insights['sigla'] == 'SP']['consumo'].sum()\n",
    "use_energy_no_sp = df_energy_insights[df_energy_insights['sigla'] != 'SP']['consumo'].sum()\n",
    "df_use_energy = [use_energy_sp, use_energy_no_sp]\n",
    "labels_comparative = ['São Paulo', 'Outros Estados']"
   ]
  },
  {
   "cell_type": "code",
   "execution_count": null,
   "metadata": {},
   "outputs": [],
   "source": [
    "plt.figure(figsize=(4,4))\n",
    "plt.pie(df_use_energy, labels=labels_comparative, autopct='%1.1f%%', startangle=140, colors=['#1f77b4', '#ff7f0e'])\n",
    "plt.title('Consumo de Energia: São Paulo vs Outros Estados')\n",
    "\n",
    "plt.show()"
   ]
  },
  {
   "cell_type": "markdown",
   "metadata": {},
   "source": [
    "Este gráfico compara o consumo de energia de São Paulo com o consumo total dos demais estados, evidenciando que São Paulo sozinho é responsável por quase 30% do consumo de energia no país"
   ]
  },
  {
   "cell_type": "code",
   "execution_count": 73,
   "metadata": {},
   "outputs": [],
   "source": [
    "use_energy_sp = df_energy_insights[df_energy_insights['sigla'] == 'SP'].groupby('ano')['consumo'].sum().reset_index()\n",
    "use_energy_no_sp = df_energy_insights[df_energy_insights['sigla'] != 'SP'].groupby('ano')['consumo'].sum().reset_index()\n",
    "use_energy_no_sp['grupo'] = 'Outros Estados'\n",
    "use_energy_sp['grupo'] = 'São Paulo'\n",
    "df_use_energy = pd.concat([use_energy_sp, use_energy_no_sp])\n"
   ]
  },
  {
   "cell_type": "code",
   "execution_count": null,
   "metadata": {},
   "outputs": [],
   "source": [
    "\n",
    "plt.figure(figsize=(12, 6))\n",
    "sns.lineplot(data=df_use_energy, x='ano', y='consumo', hue='grupo', marker='o', linewidth=2.5)\n",
    "plt.xticks(ticks=energy_by_year['ano'], rotation=45)\n",
    "\n",
    "plt.title('Consumo de Energia: São Paulo vs Outros Estados ao Longo dos Anos', fontsize=16)\n",
    "plt.xlabel('Ano', fontsize=14)\n",
    "plt.ylabel('Consumo de Energia', fontsize=14)\n",
    "\n",
    "plt.tight_layout()\n",
    "plt.show()"
   ]
  },
  {
   "cell_type": "markdown",
   "metadata": {},
   "source": [
    "Neste gráfico, que mostra o consumo de energia ao longo dos anos para São Paulo e os demais estados, é possível observar que o consumo dos outros estados aumentou significativamente com o passar dos anos, enquanto o consumo de São Paulo permaneceu relativamente estável."
   ]
  }
 ],
 "metadata": {
  "kernelspec": {
   "display_name": "energy_analysis",
   "language": "python",
   "name": "energy_analysis"
  },
  "language_info": {
   "codemirror_mode": {
    "name": "ipython",
    "version": 3
   },
   "file_extension": ".py",
   "mimetype": "text/x-python",
   "name": "python",
   "nbconvert_exporter": "python",
   "pygments_lexer": "ipython3",
   "version": "3.12.6"
  }
 },
 "nbformat": 4,
 "nbformat_minor": 2
}
