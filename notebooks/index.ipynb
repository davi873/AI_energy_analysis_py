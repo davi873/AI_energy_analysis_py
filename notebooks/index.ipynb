{
 "cells": [
  {
   "cell_type": "markdown",
   "metadata": {},
   "source": [
    "# Importação das bibliotecas e Criação dos dataframes"
   ]
  },
  {
   "cell_type": "code",
   "execution_count": 3,
   "metadata": {},
   "outputs": [],
   "source": [
    "import pandas as pd\n",
    "import sys\n",
    "sys.path.append('../')\n",
    "\n",
    "pd.set_option('display.float_format', lambda x: '%0f' % x)\n",
    "\n",
    "df_energy = pd.read_csv('../datasets/raw/consumo_energia_eletrica.csv', sep=',')\n",
    "df_region = pd.read_csv('../datasets/raw/estado_regiao.csv', sep=';')"
   ]
  },
  {
   "cell_type": "markdown",
   "metadata": {},
   "source": [
    "## Analise inicial dos dados de consumo"
   ]
  },
  {
   "cell_type": "code",
   "execution_count": 9,
   "metadata": {},
   "outputs": [
    {
     "data": {
      "text/html": [
       "<div>\n",
       "<style scoped>\n",
       "    .dataframe tbody tr th:only-of-type {\n",
       "        vertical-align: middle;\n",
       "    }\n",
       "\n",
       "    .dataframe tbody tr th {\n",
       "        vertical-align: top;\n",
       "    }\n",
       "\n",
       "    .dataframe thead th {\n",
       "        text-align: right;\n",
       "    }\n",
       "</style>\n",
       "<table border=\"1\" class=\"dataframe\">\n",
       "  <thead>\n",
       "    <tr style=\"text-align: right;\">\n",
       "      <th></th>\n",
       "      <th>ano</th>\n",
       "      <th>mes</th>\n",
       "      <th>sigla_uf</th>\n",
       "      <th>tipo_consumo</th>\n",
       "      <th>numero_consumidores</th>\n",
       "      <th>consumo</th>\n",
       "    </tr>\n",
       "  </thead>\n",
       "  <tbody>\n",
       "    <tr>\n",
       "      <th>0</th>\n",
       "      <td>2004</td>\n",
       "      <td>1</td>\n",
       "      <td>TO</td>\n",
       "      <td>Total</td>\n",
       "      <td>NaN</td>\n",
       "      <td>65876</td>\n",
       "    </tr>\n",
       "    <tr>\n",
       "      <th>1</th>\n",
       "      <td>2004</td>\n",
       "      <td>1</td>\n",
       "      <td>BA</td>\n",
       "      <td>Total</td>\n",
       "      <td>NaN</td>\n",
       "      <td>1444451</td>\n",
       "    </tr>\n",
       "    <tr>\n",
       "      <th>2</th>\n",
       "      <td>2004</td>\n",
       "      <td>1</td>\n",
       "      <td>PR</td>\n",
       "      <td>Total</td>\n",
       "      <td>NaN</td>\n",
       "      <td>1596274</td>\n",
       "    </tr>\n",
       "    <tr>\n",
       "      <th>3</th>\n",
       "      <td>2004</td>\n",
       "      <td>1</td>\n",
       "      <td>RS</td>\n",
       "      <td>Total</td>\n",
       "      <td>NaN</td>\n",
       "      <td>1780912</td>\n",
       "    </tr>\n",
       "    <tr>\n",
       "      <th>4</th>\n",
       "      <td>2004</td>\n",
       "      <td>1</td>\n",
       "      <td>GO</td>\n",
       "      <td>Total</td>\n",
       "      <td>NaN</td>\n",
       "      <td>630624</td>\n",
       "    </tr>\n",
       "  </tbody>\n",
       "</table>\n",
       "</div>"
      ],
      "text/plain": [
       "    ano  mes sigla_uf tipo_consumo  numero_consumidores  consumo\n",
       "0  2004    1       TO        Total                  NaN    65876\n",
       "1  2004    1       BA        Total                  NaN  1444451\n",
       "2  2004    1       PR        Total                  NaN  1596274\n",
       "3  2004    1       RS        Total                  NaN  1780912\n",
       "4  2004    1       GO        Total                  NaN   630624"
      ]
     },
     "execution_count": 9,
     "metadata": {},
     "output_type": "execute_result"
    }
   ],
   "source": [
    "df_energy.head()"
   ]
  },
  {
   "cell_type": "code",
   "execution_count": 7,
   "metadata": {},
   "outputs": [
    {
     "name": "stdout",
     "output_type": "stream",
     "text": [
      "<class 'pandas.core.frame.DataFrame'>\n",
      "RangeIndex: 39897 entries, 0 to 39896\n",
      "Data columns (total 6 columns):\n",
      " #   Column               Non-Null Count  Dtype  \n",
      "---  ------               --------------  -----  \n",
      " 0   ano                  39897 non-null  int64  \n",
      " 1   mes                  39897 non-null  int64  \n",
      " 2   sigla_uf             39897 non-null  object \n",
      " 3   tipo_consumo         39897 non-null  object \n",
      " 4   numero_consumidores  26937 non-null  float64\n",
      " 5   consumo              39897 non-null  int64  \n",
      "dtypes: float64(1), int64(3), object(2)\n",
      "memory usage: 1.8+ MB\n"
     ]
    }
   ],
   "source": [
    "df_energy.info()"
   ]
  },
  {
   "cell_type": "markdown",
   "metadata": {},
   "source": [
    "A partir da analise inicial dos dados que alguns formatos não correspondem ao que seria esperado para natureza do field. \\\n",
    "Como por exemplo, o field numero_consumidores que é apresentado incialmente como float64. Também foi possível identificar a presença de valores nulos no mesmo field."
   ]
  },
  {
   "cell_type": "code",
   "execution_count": 11,
   "metadata": {},
   "outputs": [
    {
     "data": {
      "text/plain": [
       "np.int64(1017)"
      ]
     },
     "execution_count": 11,
     "metadata": {},
     "output_type": "execute_result"
    }
   ],
   "source": [
    "df_energy.duplicated().sum()\n"
   ]
  },
  {
   "cell_type": "markdown",
   "metadata": {},
   "source": [
    "Foram identificadas 1017 linhas duplicadas a serem removidas do dataframe "
   ]
  },
  {
   "cell_type": "code",
   "execution_count": 14,
   "metadata": {},
   "outputs": [],
   "source": [
    "df_energy.drop_duplicates(inplace=True)"
   ]
  },
  {
   "cell_type": "code",
   "execution_count": 17,
   "metadata": {},
   "outputs": [
    {
     "data": {
      "text/html": [
       "<div>\n",
       "<style scoped>\n",
       "    .dataframe tbody tr th:only-of-type {\n",
       "        vertical-align: middle;\n",
       "    }\n",
       "\n",
       "    .dataframe tbody tr th {\n",
       "        vertical-align: top;\n",
       "    }\n",
       "\n",
       "    .dataframe thead th {\n",
       "        text-align: right;\n",
       "    }\n",
       "</style>\n",
       "<table border=\"1\" class=\"dataframe\">\n",
       "  <thead>\n",
       "    <tr style=\"text-align: right;\">\n",
       "      <th></th>\n",
       "      <th>ano</th>\n",
       "      <th>mes</th>\n",
       "      <th>numero_consumidores</th>\n",
       "      <th>consumo</th>\n",
       "    </tr>\n",
       "  </thead>\n",
       "  <tbody>\n",
       "    <tr>\n",
       "      <th>count</th>\n",
       "      <td>38880.000000</td>\n",
       "      <td>38880.000000</td>\n",
       "      <td>25920.000000</td>\n",
       "      <td>38880.000000</td>\n",
       "    </tr>\n",
       "    <tr>\n",
       "      <th>mean</th>\n",
       "      <td>2013.500000</td>\n",
       "      <td>6.500000</td>\n",
       "      <td>682303.380000</td>\n",
       "      <td>611732.010000</td>\n",
       "    </tr>\n",
       "    <tr>\n",
       "      <th>std</th>\n",
       "      <td>5.770000</td>\n",
       "      <td>3.450000</td>\n",
       "      <td>1839311.690000</td>\n",
       "      <td>1208066.850000</td>\n",
       "    </tr>\n",
       "    <tr>\n",
       "      <th>min</th>\n",
       "      <td>2004.000000</td>\n",
       "      <td>1.000000</td>\n",
       "      <td>52.000000</td>\n",
       "      <td>354.000000</td>\n",
       "    </tr>\n",
       "    <tr>\n",
       "      <th>25%</th>\n",
       "      <td>2008.750000</td>\n",
       "      <td>3.750000</td>\n",
       "      <td>18956.500000</td>\n",
       "      <td>85476.000000</td>\n",
       "    </tr>\n",
       "    <tr>\n",
       "      <th>50%</th>\n",
       "      <td>2013.500000</td>\n",
       "      <td>6.500000</td>\n",
       "      <td>108174.500000</td>\n",
       "      <td>221062.000000</td>\n",
       "    </tr>\n",
       "    <tr>\n",
       "      <th>75%</th>\n",
       "      <td>2018.250000</td>\n",
       "      <td>9.250000</td>\n",
       "      <td>442412.000000</td>\n",
       "      <td>596699.000000</td>\n",
       "    </tr>\n",
       "    <tr>\n",
       "      <th>max</th>\n",
       "      <td>2023.000000</td>\n",
       "      <td>12.000000</td>\n",
       "      <td>19201264.000000</td>\n",
       "      <td>12809742.000000</td>\n",
       "    </tr>\n",
       "  </tbody>\n",
       "</table>\n",
       "</div>"
      ],
      "text/plain": [
       "               ano          mes  numero_consumidores         consumo\n",
       "count 38880.000000 38880.000000         25920.000000    38880.000000\n",
       "mean   2013.500000     6.500000        682303.380000   611732.010000\n",
       "std       5.770000     3.450000       1839311.690000  1208066.850000\n",
       "min    2004.000000     1.000000            52.000000      354.000000\n",
       "25%    2008.750000     3.750000         18956.500000    85476.000000\n",
       "50%    2013.500000     6.500000        108174.500000   221062.000000\n",
       "75%    2018.250000     9.250000        442412.000000   596699.000000\n",
       "max    2023.000000    12.000000      19201264.000000 12809742.000000"
      ]
     },
     "execution_count": 17,
     "metadata": {},
     "output_type": "execute_result"
    }
   ],
   "source": [
    "df_energy.describe().round(2)"
   ]
  },
  {
   "cell_type": "markdown",
   "metadata": {},
   "source": [
    "Ações de correção na base: \n",
    " 1. Alterar o tipo da coluna número consumidores de float para int\n",
    " 2. Alterar o tipo da coluna consumo de int para float \n",
    " 3. Tratar os dados nulos da coluna número consumidores \n",
    " 4. Tratar possíveis outliers da coluna consumo\n"
   ]
  },
  {
   "cell_type": "code",
   "execution_count": 25,
   "metadata": {},
   "outputs": [
    {
     "name": "stdout",
     "output_type": "stream",
     "text": [
      "<class 'pandas.core.frame.DataFrame'>\n",
      "Index: 38880 entries, 0 to 38879\n",
      "Data columns (total 6 columns):\n",
      " #   Column               Non-Null Count  Dtype  \n",
      "---  ------               --------------  -----  \n",
      " 0   ano                  38880 non-null  int64  \n",
      " 1   mes                  38880 non-null  int64  \n",
      " 2   sigla_uf             38880 non-null  object \n",
      " 3   tipo_consumo         38880 non-null  object \n",
      " 4   numero_consumidores  25920 non-null  float64\n",
      " 5   consumo              38880 non-null  float64\n",
      "dtypes: float64(2), int64(2), object(2)\n",
      "memory usage: 2.1+ MB\n"
     ]
    }
   ],
   "source": [
    "df_energy_custom = df_energy\n",
    "df_energy_custom['consumo'] = df_energy_custom['consumo'].astype('float')\n",
    "df_energy_custom.info()"
   ]
  },
  {
   "cell_type": "code",
   "execution_count": 53,
   "metadata": {},
   "outputs": [
    {
     "data": {
      "text/html": [
       "<div>\n",
       "<style scoped>\n",
       "    .dataframe tbody tr th:only-of-type {\n",
       "        vertical-align: middle;\n",
       "    }\n",
       "\n",
       "    .dataframe tbody tr th {\n",
       "        vertical-align: top;\n",
       "    }\n",
       "\n",
       "    .dataframe thead th {\n",
       "        text-align: right;\n",
       "    }\n",
       "</style>\n",
       "<table border=\"1\" class=\"dataframe\">\n",
       "  <thead>\n",
       "    <tr style=\"text-align: right;\">\n",
       "      <th></th>\n",
       "      <th>sigla_uf</th>\n",
       "      <th>tipo_consumo</th>\n",
       "      <th>numero_consumidores</th>\n",
       "    </tr>\n",
       "  </thead>\n",
       "  <tbody>\n",
       "    <tr>\n",
       "      <th>0</th>\n",
       "      <td>AC</td>\n",
       "      <td>Cativo</td>\n",
       "      <td>0.000000</td>\n",
       "    </tr>\n",
       "    <tr>\n",
       "      <th>1</th>\n",
       "      <td>AC</td>\n",
       "      <td>Comercial</td>\n",
       "      <td>4376707.000000</td>\n",
       "    </tr>\n",
       "    <tr>\n",
       "      <th>2</th>\n",
       "      <td>AC</td>\n",
       "      <td>Industrial</td>\n",
       "      <td>140290.000000</td>\n",
       "    </tr>\n",
       "    <tr>\n",
       "      <th>3</th>\n",
       "      <td>AC</td>\n",
       "      <td>Outros</td>\n",
       "      <td>6353093.000000</td>\n",
       "    </tr>\n",
       "    <tr>\n",
       "      <th>4</th>\n",
       "      <td>AC</td>\n",
       "      <td>Residencial</td>\n",
       "      <td>42270581.000000</td>\n",
       "    </tr>\n",
       "    <tr>\n",
       "      <th>...</th>\n",
       "      <td>...</td>\n",
       "      <td>...</td>\n",
       "      <td>...</td>\n",
       "    </tr>\n",
       "    <tr>\n",
       "      <th>157</th>\n",
       "      <td>TO</td>\n",
       "      <td>Comercial</td>\n",
       "      <td>7888898.000000</td>\n",
       "    </tr>\n",
       "    <tr>\n",
       "      <th>158</th>\n",
       "      <td>TO</td>\n",
       "      <td>Industrial</td>\n",
       "      <td>480289.000000</td>\n",
       "    </tr>\n",
       "    <tr>\n",
       "      <th>159</th>\n",
       "      <td>TO</td>\n",
       "      <td>Outros</td>\n",
       "      <td>14157539.000000</td>\n",
       "    </tr>\n",
       "    <tr>\n",
       "      <th>160</th>\n",
       "      <td>TO</td>\n",
       "      <td>Residencial</td>\n",
       "      <td>96462459.000000</td>\n",
       "    </tr>\n",
       "    <tr>\n",
       "      <th>161</th>\n",
       "      <td>TO</td>\n",
       "      <td>Total</td>\n",
       "      <td>0.000000</td>\n",
       "    </tr>\n",
       "  </tbody>\n",
       "</table>\n",
       "<p>162 rows × 3 columns</p>\n",
       "</div>"
      ],
      "text/plain": [
       "    sigla_uf tipo_consumo  numero_consumidores\n",
       "0         AC       Cativo             0.000000\n",
       "1         AC    Comercial       4376707.000000\n",
       "2         AC   Industrial        140290.000000\n",
       "3         AC       Outros       6353093.000000\n",
       "4         AC  Residencial      42270581.000000\n",
       "..       ...          ...                  ...\n",
       "157       TO    Comercial       7888898.000000\n",
       "158       TO   Industrial        480289.000000\n",
       "159       TO       Outros      14157539.000000\n",
       "160       TO  Residencial      96462459.000000\n",
       "161       TO        Total             0.000000\n",
       "\n",
       "[162 rows x 3 columns]"
      ]
     },
     "execution_count": 53,
     "metadata": {},
     "output_type": "execute_result"
    }
   ],
   "source": [
    "\n",
    "df_energy_custom.groupby(['sigla_uf','tipo_consumo'])['numero_consumidores'].sum().reset_index()"
   ]
  },
  {
   "cell_type": "code",
   "execution_count": 40,
   "metadata": {},
   "outputs": [
    {
     "data": {
      "text/plain": [
       "ano                        0\n",
       "mes                        0\n",
       "sigla_uf                   0\n",
       "tipo_consumo               0\n",
       "numero_consumidores    12960\n",
       "consumo                    0\n",
       "dtype: int64"
      ]
     },
     "execution_count": 40,
     "metadata": {},
     "output_type": "execute_result"
    }
   ],
   "source": [
    "df_energy_custom.isnull().sum()"
   ]
  },
  {
   "cell_type": "markdown",
   "metadata": {},
   "source": [
    "Agrupamos o número de consumidores por tipo de consumo para tentar identificar onde haveria maior concentração de valores nulos."
   ]
  },
  {
   "cell_type": "code",
   "execution_count": 60,
   "metadata": {},
   "outputs": [
    {
     "data": {
      "text/html": [
       "<div>\n",
       "<style scoped>\n",
       "    .dataframe tbody tr th:only-of-type {\n",
       "        vertical-align: middle;\n",
       "    }\n",
       "\n",
       "    .dataframe tbody tr th {\n",
       "        vertical-align: top;\n",
       "    }\n",
       "\n",
       "    .dataframe thead th {\n",
       "        text-align: right;\n",
       "    }\n",
       "</style>\n",
       "<table border=\"1\" class=\"dataframe\">\n",
       "  <thead>\n",
       "    <tr style=\"text-align: right;\">\n",
       "      <th></th>\n",
       "      <th>tipo_consumo</th>\n",
       "      <th>numero_consumidores</th>\n",
       "    </tr>\n",
       "  </thead>\n",
       "  <tbody>\n",
       "    <tr>\n",
       "      <th>0</th>\n",
       "      <td>Cativo</td>\n",
       "      <td>0.000000</td>\n",
       "    </tr>\n",
       "    <tr>\n",
       "      <th>1</th>\n",
       "      <td>Comercial</td>\n",
       "      <td>1264142056.000000</td>\n",
       "    </tr>\n",
       "    <tr>\n",
       "      <th>2</th>\n",
       "      <td>Industrial</td>\n",
       "      <td>125271021.000000</td>\n",
       "    </tr>\n",
       "    <tr>\n",
       "      <th>3</th>\n",
       "      <td>Outros</td>\n",
       "      <td>1110354277.000000</td>\n",
       "    </tr>\n",
       "    <tr>\n",
       "      <th>4</th>\n",
       "      <td>Residencial</td>\n",
       "      <td>15185536183.000000</td>\n",
       "    </tr>\n",
       "    <tr>\n",
       "      <th>5</th>\n",
       "      <td>Total</td>\n",
       "      <td>0.000000</td>\n",
       "    </tr>\n",
       "  </tbody>\n",
       "</table>\n",
       "</div>"
      ],
      "text/plain": [
       "  tipo_consumo  numero_consumidores\n",
       "0       Cativo             0.000000\n",
       "1    Comercial    1264142056.000000\n",
       "2   Industrial     125271021.000000\n",
       "3       Outros    1110354277.000000\n",
       "4  Residencial   15185536183.000000\n",
       "5        Total             0.000000"
      ]
     },
     "execution_count": 60,
     "metadata": {},
     "output_type": "execute_result"
    }
   ],
   "source": [
    "df_energy_custom.groupby(['tipo_consumo'])['numero_consumidores'].sum().reset_index()"
   ]
  },
  {
   "cell_type": "markdown",
   "metadata": {},
   "source": [
    "Foi possível identificar que os tipos de consumo 'Cativo' e 'Total' representam todos os valores nulos identificados"
   ]
  },
  {
   "cell_type": "code",
   "execution_count": 61,
   "metadata": {},
   "outputs": [
    {
     "data": {
      "text/html": [
       "<div>\n",
       "<style scoped>\n",
       "    .dataframe tbody tr th:only-of-type {\n",
       "        vertical-align: middle;\n",
       "    }\n",
       "\n",
       "    .dataframe tbody tr th {\n",
       "        vertical-align: top;\n",
       "    }\n",
       "\n",
       "    .dataframe thead th {\n",
       "        text-align: right;\n",
       "    }\n",
       "</style>\n",
       "<table border=\"1\" class=\"dataframe\">\n",
       "  <thead>\n",
       "    <tr style=\"text-align: right;\">\n",
       "      <th></th>\n",
       "      <th>tipo_consumo</th>\n",
       "      <th>consumo</th>\n",
       "    </tr>\n",
       "  </thead>\n",
       "  <tbody>\n",
       "    <tr>\n",
       "      <th>0</th>\n",
       "      <td>Cativo</td>\n",
       "      <td>6201517579.000000</td>\n",
       "    </tr>\n",
       "    <tr>\n",
       "      <th>1</th>\n",
       "      <td>Comercial</td>\n",
       "      <td>1547394950.000000</td>\n",
       "    </tr>\n",
       "    <tr>\n",
       "      <th>2</th>\n",
       "      <td>Industrial</td>\n",
       "      <td>3463509299.000000</td>\n",
       "    </tr>\n",
       "    <tr>\n",
       "      <th>3</th>\n",
       "      <td>Outros</td>\n",
       "      <td>1359081971.000000</td>\n",
       "    </tr>\n",
       "    <tr>\n",
       "      <th>4</th>\n",
       "      <td>Residencial</td>\n",
       "      <td>2421323423.000000</td>\n",
       "    </tr>\n",
       "    <tr>\n",
       "      <th>5</th>\n",
       "      <td>Total</td>\n",
       "      <td>8791313198.000000</td>\n",
       "    </tr>\n",
       "  </tbody>\n",
       "</table>\n",
       "</div>"
      ],
      "text/plain": [
       "  tipo_consumo           consumo\n",
       "0       Cativo 6201517579.000000\n",
       "1    Comercial 1547394950.000000\n",
       "2   Industrial 3463509299.000000\n",
       "3       Outros 1359081971.000000\n",
       "4  Residencial 2421323423.000000\n",
       "5        Total 8791313198.000000"
      ]
     },
     "execution_count": 61,
     "metadata": {},
     "output_type": "execute_result"
    }
   ],
   "source": [
    "df_energy_custom.groupby(['tipo_consumo'])['consumo'].sum().reset_index()"
   ]
  },
  {
   "cell_type": "markdown",
   "metadata": {},
   "source": [
    "A partir dessa constatação levantamos a suspeita de que o tipo de consumo 'total' representava o somatório dos demais tipos não nulos. \\\n",
    "Para testar a hipótese elaboramos os filtros abaixo para comparar o total com o somatório dos tipos 'Comercial', 'Industrial', 'Outros', 'Residencial'."
   ]
  },
  {
   "cell_type": "code",
   "execution_count": 62,
   "metadata": {},
   "outputs": [
    {
     "name": "stdout",
     "output_type": "stream",
     "text": [
      "Total dos tipos sem Cativo e total 8791309643.0 e Total Geral 8791313198.0\n"
     ]
    }
   ],
   "source": [
    "filter = df_energy_custom['tipo_consumo'].isin(['Comercial', 'Industrial', 'Outros', 'Residencial'])\n",
    "expenditure_filtered = df_energy_custom[filter]['consumo'].sum()\n",
    "expenditure_total_type = df_energy_custom[df_energy_custom['tipo_consumo'] == 'Total']['consumo'].sum()\n",
    "\n",
    "\n",
    "print(f'Total dos tipos sem Cativo e total {expenditure_filtered} e Total Geral {expenditure_total_type}')"
   ]
  },
  {
   "cell_type": "markdown",
   "metadata": {},
   "source": [
    "O Teste demonstrou que de fato existe a correlação levantada em hipótese. \\\n",
    "Dessa forma concluímos que o tipo de consumo total exibe dados redundantes e pode ser descartado do dataframe."
   ]
  },
  {
   "cell_type": "markdown",
   "metadata": {},
   "source": [
    "Pela mesma lógica, não foi possível identificar nenhuma combinação de somas dos tipos de consumo não nulos que resultasse no valor do tipo 'cativo'. \\\n",
    "Sendo assim é possível assumir que seu valor de consumo não possui relevancia no valor total obtido, e portanto, também pode ser removido do dataframe."
   ]
  },
  {
   "cell_type": "code",
   "execution_count": 63,
   "metadata": {},
   "outputs": [
    {
     "data": {
      "text/plain": [
       "tipo_consumo\n",
       "Comercial     1547394950.000000\n",
       "Industrial    3463509299.000000\n",
       "Outros        1359081971.000000\n",
       "Residencial   2421323423.000000\n",
       "Name: consumo, dtype: float64"
      ]
     },
     "execution_count": 63,
     "metadata": {},
     "output_type": "execute_result"
    }
   ],
   "source": [
    "df_energy_custom.dropna(inplace=True)\n",
    "df_energy_custom.groupby(['tipo_consumo'])['consumo'].sum()"
   ]
  },
  {
   "cell_type": "code",
   "execution_count": 67,
   "metadata": {},
   "outputs": [
    {
     "name": "stdout",
     "output_type": "stream",
     "text": [
      "<class 'pandas.core.frame.DataFrame'>\n",
      "Index: 25920 entries, 648 to 38879\n",
      "Data columns (total 6 columns):\n",
      " #   Column               Non-Null Count  Dtype  \n",
      "---  ------               --------------  -----  \n",
      " 0   ano                  25920 non-null  int64  \n",
      " 1   mes                  25920 non-null  int64  \n",
      " 2   sigla_uf             25920 non-null  object \n",
      " 3   tipo_consumo         25920 non-null  object \n",
      " 4   numero_consumidores  25920 non-null  int64  \n",
      " 5   consumo              25920 non-null  float64\n",
      "dtypes: float64(1), int64(3), object(2)\n",
      "memory usage: 1.4+ MB\n"
     ]
    }
   ],
   "source": [
    "df_energy_custom['numero_consumidores'] = df_energy_custom['numero_consumidores'].astype('int')\n",
    "df_energy_custom.info()"
   ]
  }
 ],
 "metadata": {
  "kernelspec": {
   "display_name": "energy_analysis",
   "language": "python",
   "name": "energy_analysis"
  },
  "language_info": {
   "codemirror_mode": {
    "name": "ipython",
    "version": 3
   },
   "file_extension": ".py",
   "mimetype": "text/x-python",
   "name": "python",
   "nbconvert_exporter": "python",
   "pygments_lexer": "ipython3",
   "version": "3.12.6"
  }
 },
 "nbformat": 4,
 "nbformat_minor": 2
}
